{
 "cells": [
  {
   "cell_type": "code",
   "execution_count": 1,
   "metadata": {},
   "outputs": [],
   "source": [
    "import pandas as pd\n",
    "import plotly.graph_objects as go"
   ]
  },
  {
   "cell_type": "code",
   "execution_count": 2,
   "metadata": {},
   "outputs": [],
   "source": [
    "dat = pd.read_csv('../alexailyin_23:05:00_tweets.csv')"
   ]
  },
  {
   "cell_type": "code",
   "execution_count": 28,
   "metadata": {},
   "outputs": [],
   "source": [
    "class Summary:\n",
    "\n",
    "    def __init__(self, filename):\n",
    "        self.dat = pd.read_csv(filename)\n",
    "        self.wc_dict = None\n",
    "\n",
    "    def summary_stats(self, type, stat):\n",
    "        stats = self.dat.describe().transpose().iloc[1:, :]\n",
    "        try:\n",
    "            return stats.loc[type][stat]\n",
    "        except KeyError as e:\n",
    "            raise KeyError('Possible columns include {}'.format(list(stats.columns)))\n",
    "\n",
    "    def get_most_likes(self, clean=True):\n",
    "        row = self.dat[self.dat['likes']==self.dat['likes'].max()]\n",
    "        tw_url = 'twitter.com/' + row['user_id'].values.flat[0] + '/status/' + str(row['tweet_id'].values.flat[0])\n",
    "        return tw_url\n",
    "\n",
    "    def get_most_re(self, clean=True):\n",
    "        row = self.dat[self.dat['likes']==self.dat['likes'].max()]\n",
    "        tw_url = 'twitter.com/' + row[['user_id']] + \\\n",
    "             '/status/' + str(row[['tweet_id']])\n",
    "        return tw_url\n",
    "\n",
    "    def likes_retweets_plot(self):\n",
    "        fig = go.Figure(data=[\n",
    "                    go.Bar(name='Tweets', x=['Likes', 'Retweets'], y=[self.dat['likes'].sum(), self.dat['retweets'].sum()])\n",
    "              ])\n",
    "        fig.update_layout(\n",
    "            title=\"Total Likes vs. Retweets\",\n",
    "            yaxis_title='Sum',\n",
    "            paper_bgcolor='rgba(0,0,0,0)',\n",
    "            plot_bgcolor='rgba(0,0,0,0)',\n",
    "            width=400,\n",
    "            height=400\n",
    "        )\n",
    "        return fig.to_html(include_plotlyjs='cdn')\n",
    "\n",
    "    def wc(self, clean=True):\n",
    "        col = 'clean_text'\n",
    "        if not clean:\n",
    "            col = 'text'\n",
    "\n",
    "        wc = {}\n",
    "        for tweet in self.dat[col]:\n",
    "            for word in tweet.split():\n",
    "                if word not in wc:\n",
    "                    wc[word] = 1\n",
    "                else:\n",
    "                    wc[word] += 1\n",
    "\n",
    "        wc = {k: v for k, v in sorted(wc.items(), key=lambda item: item[1], reverse=True)}\n",
    "        self.wc_dict = wc\n",
    "\n",
    "    def wc_plot(self, count=25):\n",
    "        if not self.wc_dict:\n",
    "            self.wc_dict()\n",
    "\n",
    "        fig = go.Figure(data=[\n",
    "            go.Bar(name='Word Count', x=list(self.wc_dict.keys())[:count], y=list(self.wc_dict.values())[:count])\n",
    "        ])\n",
    "        fig.update_xaxes(tickangle=45)\n",
    "        fig.update_layout(\n",
    "            title=\"Top {} Words\".format(count),\n",
    "            paper_bgcolor='rgba(0,0,0,0)',\n",
    "            plot_bgcolor='rgba(0,0,0,0)',\n",
    "            width=450,\n",
    "            height=450\n",
    "        )\n",
    "        return fig.to_html(include_plotlyjs='cdn')\n",
    "\n"
   ]
  },
  {
   "cell_type": "code",
   "execution_count": 29,
   "metadata": {},
   "outputs": [],
   "source": [
    "s = Summary('../alexailyin_23:05:00_tweets.csv')"
   ]
  },
  {
   "cell_type": "code",
   "execution_count": 31,
   "metadata": {},
   "outputs": [
    {
     "data": {
      "text/plain": [
       "'twitter.com/ClaudiaCereal/status/1275562213969809408'"
      ]
     },
     "execution_count": 31,
     "metadata": {},
     "output_type": "execute_result"
    }
   ],
   "source": [
    "s.get_most_likes()"
   ]
  },
  {
   "cell_type": "code",
   "execution_count": 60,
   "metadata": {},
   "outputs": [],
   "source": [
    "from selenium import webdriver"
   ]
  },
  {
   "cell_type": "code",
   "execution_count": 50,
   "metadata": {},
   "outputs": [],
   "source": [
    "url = 'https://publish.twitter.com/?query=' + s.get_most_likes().replace('/', '%2F') + '&theme=dark&widget=Tweet'"
   ]
  },
  {
   "cell_type": "code",
   "execution_count": 53,
   "metadata": {
    "scrolled": true
   },
   "outputs": [
    {
     "data": {
      "text/plain": [
       "'https://publish.twitter.com/?query=twitter.com%2FClaudiaCereal%2Fstatus%2F1275562213969809408&theme=dark&widget=Tweet'"
      ]
     },
     "execution_count": 53,
     "metadata": {},
     "output_type": "execute_result"
    }
   ],
   "source": [
    "url"
   ]
  },
  {
   "cell_type": "code",
   "execution_count": 68,
   "metadata": {},
   "outputs": [
    {
     "name": "stdout",
     "output_type": "stream",
     "text": [
      "<blockquote class=\"twitter-tweet\" data-theme=\"dark\"><p lang=\"en\" dir=\"ltr\">Grocery store and retail workers should be getting double pay during these times. Because these folks have been doing the MOST in their establishments. <a href=\"https://t.co/yR53BkSjHa\">https://t.co/yR53BkSjHa</a></p>&mdash; 👸🏾L E A👸🏾 (@_MissLeandra) <a href=\"https://twitter.com/_MissLeandra/status/1274556477857030148?ref_src=twsrc%5Etfw\">June 21, 2020</a></blockquote> <script async src=\"https://platform.twitter.com/widgets.js\" charset=\"utf-8\"></script>\n"
     ]
    }
   ],
   "source": [
    "browser = webdriver.Chrome()\n",
    "browser.get(url)\n",
    "x = browser.find_element_by_class_name('EmbedCode-code')\n",
    "print(x.text)"
   ]
  },
  {
   "cell_type": "code",
   "execution_count": null,
   "metadata": {},
   "outputs": [],
   "source": [
    "page."
   ]
  }
 ],
 "metadata": {
  "kernelspec": {
   "display_name": "Python 3",
   "language": "python",
   "name": "python3"
  },
  "language_info": {
   "codemirror_mode": {
    "name": "ipython",
    "version": 3
   },
   "file_extension": ".py",
   "mimetype": "text/x-python",
   "name": "python",
   "nbconvert_exporter": "python",
   "pygments_lexer": "ipython3",
   "version": "3.8.2"
  }
 },
 "nbformat": 4,
 "nbformat_minor": 4
}
